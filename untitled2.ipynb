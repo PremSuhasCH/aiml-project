{
  "nbformat": 4,
  "nbformat_minor": 0,
  "metadata": {
    "colab": {
      "provenance": [],
      "authorship_tag": "ABX9TyN3AZp8ubFtodC8+GSd3slm",
      "include_colab_link": true
    },
    "kernelspec": {
      "name": "python3",
      "display_name": "Python 3"
    },
    "language_info": {
      "name": "python"
    }
  },
  "cells": [
    {
      "cell_type": "markdown",
      "metadata": {
        "id": "view-in-github",
        "colab_type": "text"
      },
      "source": [
        "<a href=\"https://colab.research.google.com/github/PremSuhasCH/aiml-project/blob/main/untitled2.ipynb\" target=\"_parent\"><img src=\"https://colab.research.google.com/assets/colab-badge.svg\" alt=\"Open In Colab\"/></a>"
      ]
    },
    {
      "cell_type": "code",
      "execution_count": null,
      "metadata": {
        "id": "6jsdRl03mGRB"
      },
      "outputs": [],
      "source": [
        "import numpy as np\n",
        "import pandas as pd"
      ]
    },
    {
      "cell_type": "code",
      "source": [
        "my_data=np.array([[1,2],[3,4],[5,6]])\n",
        "print(my_data.shape)\n",
        "my_column_name=['x','y']\n",
        "my_dataframe = pd.DataFrame(data=my_data,columns=my_column_name)\n",
        "print(my_dataframe)"
      ],
      "metadata": {
        "colab": {
          "base_uri": "https://localhost:8080/"
        },
        "id": "5_74tTIVoSYe",
        "outputId": "6601e223-b144-4ccd-b24e-da12d9a6c25f"
      },
      "execution_count": null,
      "outputs": [
        {
          "output_type": "stream",
          "name": "stdout",
          "text": [
            "(3, 2)\n",
            "   x  y\n",
            "0  1  2\n",
            "1  3  4\n",
            "2  5  6\n"
          ]
        }
      ]
    },
    {
      "cell_type": "code",
      "source": [
        "my_data=np.array([[1,2,8],[3,6,4],[5,8,6]])\n",
        "print(my_data.shape)\n",
        "my_column_name=['x','y','z']\n",
        "my_dataframe = pd.DataFrame(data=my_data,columns=my_column_name)\n",
        "print(my_dataframe)"
      ],
      "metadata": {
        "colab": {
          "base_uri": "https://localhost:8080/"
        },
        "id": "hiN16QD3rKK1",
        "outputId": "8dc3f400-9b4b-4249-8150-333c18daa461"
      },
      "execution_count": null,
      "outputs": [
        {
          "output_type": "stream",
          "name": "stdout",
          "text": [
            "(3, 3)\n",
            "   x  y  z\n",
            "0  1  2  8\n",
            "1  3  6  4\n",
            "2  5  8  6\n"
          ]
        }
      ]
    },
    {
      "cell_type": "code",
      "source": [
        "my_data=np.array([[1,2,8],[3,6,4],[5,8,6]])\n",
        "print(my_data.shape)\n",
        "my_column_name=['x','y','z']\n",
        "my_dataframe = pd.DataFrame(data=my_data,columns=my_column_name)\n",
        "my_dataframe['a']=my_dataframe['x']+my_dataframe['y']+my_dataframe['z']\n",
        "my_dataframe['c']=my_dataframe['x']+my_dataframe['y']+my_dataframe['z']+3\n",
        "print(my_dataframe)"
      ],
      "metadata": {
        "colab": {
          "base_uri": "https://localhost:8080/"
        },
        "id": "QjKQtgJ6sWOI",
        "outputId": "fb777a59-5110-43d7-c636-7684d6f5c296"
      },
      "execution_count": null,
      "outputs": [
        {
          "output_type": "stream",
          "name": "stdout",
          "text": [
            "(3, 3)\n",
            "   x  y  z   a   c\n",
            "0  1  2  8  11  14\n",
            "1  3  6  4  13  16\n",
            "2  5  8  6  19  22\n"
          ]
        }
      ]
    },
    {
      "cell_type": "code",
      "source": [
        "my_data=np.array([[1,2,8],[3,6,4],[5,8,6]])\n",
        "print(my_data.shape)\n",
        "my_column_name=['x','y','z']\n",
        "my_dataframe = pd.DataFrame(data=my_data,columns=my_column_name)\n",
        "my_dataframe['x']=my_dataframe['x']+3\n",
        "my_dataframe['y']=my_dataframe['y']+3\n",
        "my_dataframe['z']=my_dataframe['z']+3\n",
        "my_dataframe['c']=my_dataframe['x']+my_dataframe['y']+my_dataframe['z']+3\n",
        "print(my_dataframe)"
      ],
      "metadata": {
        "colab": {
          "base_uri": "https://localhost:8080/"
        },
        "id": "pwqrOZogt8O1",
        "outputId": "59297fc4-e7e8-42f9-d347-81575a4a3a52"
      },
      "execution_count": null,
      "outputs": [
        {
          "output_type": "stream",
          "name": "stdout",
          "text": [
            "(3, 3)\n",
            "   x   y   z   c\n",
            "0  4   5  11  23\n",
            "1  6   9   7  25\n",
            "2  8  11   9  31\n"
          ]
        }
      ]
    },
    {
      "cell_type": "code",
      "source": [
        "df=pd.read_CSV('/panda.csv')\n",
        "print(df)"
      ],
      "metadata": {
        "colab": {
          "base_uri": "https://localhost:8080/",
          "height": 304
        },
        "id": "YLHNsoX3xDvc",
        "outputId": "54d7fbb2-e689-4f70-d1d9-17dd28104f9a"
      },
      "execution_count": null,
      "outputs": [
        {
          "output_type": "error",
          "ename": "AttributeError",
          "evalue": "ignored",
          "traceback": [
            "\u001b[0;31m---------------------------------------------------------------------------\u001b[0m",
            "\u001b[0;31mAttributeError\u001b[0m                            Traceback (most recent call last)",
            "\u001b[0;32m<ipython-input-23-5da33d4f759c>\u001b[0m in \u001b[0;36m<module>\u001b[0;34m\u001b[0m\n\u001b[0;32m----> 1\u001b[0;31m \u001b[0mdf\u001b[0m\u001b[0;34m=\u001b[0m\u001b[0mpd\u001b[0m\u001b[0;34m.\u001b[0m\u001b[0mread_CSV\u001b[0m\u001b[0;34m(\u001b[0m\u001b[0;34m'/panda.csv'\u001b[0m\u001b[0;34m)\u001b[0m\u001b[0;34m\u001b[0m\u001b[0;34m\u001b[0m\u001b[0m\n\u001b[0m\u001b[1;32m      2\u001b[0m \u001b[0mprint\u001b[0m\u001b[0;34m(\u001b[0m\u001b[0mdf\u001b[0m\u001b[0;34m)\u001b[0m\u001b[0;34m\u001b[0m\u001b[0;34m\u001b[0m\u001b[0m\n",
            "\u001b[0;32m/usr/local/lib/python3.8/dist-packages/pandas/__init__.py\u001b[0m in \u001b[0;36m__getattr__\u001b[0;34m(name)\u001b[0m\n\u001b[1;32m    242\u001b[0m         \u001b[0;32mreturn\u001b[0m \u001b[0m_SparseArray\u001b[0m\u001b[0;34m\u001b[0m\u001b[0;34m\u001b[0m\u001b[0m\n\u001b[1;32m    243\u001b[0m \u001b[0;34m\u001b[0m\u001b[0m\n\u001b[0;32m--> 244\u001b[0;31m     \u001b[0;32mraise\u001b[0m \u001b[0mAttributeError\u001b[0m\u001b[0;34m(\u001b[0m\u001b[0;34mf\"module 'pandas' has no attribute '{name}'\"\u001b[0m\u001b[0;34m)\u001b[0m\u001b[0;34m\u001b[0m\u001b[0;34m\u001b[0m\u001b[0m\n\u001b[0m\u001b[1;32m    245\u001b[0m \u001b[0;34m\u001b[0m\u001b[0m\n\u001b[1;32m    246\u001b[0m \u001b[0;34m\u001b[0m\u001b[0m\n",
            "\u001b[0;31mAttributeError\u001b[0m: module 'pandas' has no attribute 'read_CSV'"
          ]
        }
      ]
    },
    {
      "cell_type": "code",
      "source": [],
      "metadata": {
        "id": "7qNn-xRU0jIB"
      },
      "execution_count": null,
      "outputs": []
    }
  ]
}